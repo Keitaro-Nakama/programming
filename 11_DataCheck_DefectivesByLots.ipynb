{
 "cells": [
  {
   "cell_type": "code",
   "execution_count": 1,
   "metadata": {},
   "outputs": [],
   "source": [
    "import os\n",
    "import numpy as np\n",
    "import pandas as pd\n",
    "import codecs\n",
    "\n",
    "import matplotlib.pyplot as plt\n",
    "import matplotlib.dates as mdates\n",
    "import matplotlib.ticker as ticker\n",
    "from datetime import datetime\n",
    "\n",
    "%matplotlib inline"
   ]
  },
  {
   "cell_type": "markdown",
   "metadata": {},
   "source": [
    "■■■■■　関数　■■■■■"
   ]
  },
  {
   "cell_type": "code",
   "execution_count": 2,
   "metadata": {},
   "outputs": [],
   "source": [
    "def SaveFig(fig_id, tight_layout=True, fig_extension=\"png\", resolution=600):\n",
    "   \n",
    "    images_path = os.path.join(\"..\", \"Images\", csv_file[:-4])\n",
    "    os.makedirs(images_path, exist_ok=True)\n",
    "    path = os.path.join(images_path, fig_id + \".\" + fig_extension)\n",
    "    \n",
    "    #print(\"Saving figure\", fig_id)\n",
    "    if tight_layout:\n",
    "        plt.tight_layout()\n",
    "    plt.savefig(path, format=fig_extension, dpi=resolution)\n",
    "    plt.close()"
   ]
  },
  {
   "cell_type": "code",
   "execution_count": 3,
   "metadata": {},
   "outputs": [],
   "source": [
    "def GetCSVFiles():\n",
    "    files = os.listdir(R_DATA_PATH)\n",
    "    csv_files = []\n",
    "    \n",
    "    for t in  files:\n",
    "        if(t[-4:] == '.csv' and t[:2].upper() == \"NG\"):\n",
    "             csv_files.append(t)\n",
    "    \n",
    "    return csv_files"
   ]
  },
  {
   "cell_type": "code",
   "execution_count": 4,
   "metadata": {},
   "outputs": [],
   "source": [
    "def PlotDefectivesWithLot(x, y1, y2, fig_id):\n",
    "\n",
    "    fig = plt.figure(figsize=(14,6))\n",
    "\n",
    "    #色の設定\n",
    "    color_1 = \"gray\"\n",
    "    color_2 = \"blue\"\n",
    "\n",
    "    #プロット\n",
    "    ax1 = fig.add_subplot(1,1,1)\n",
    "    ax1.plot(x, y1, ls=\"None\", marker=\".\", ms=0.7, c=color_1, label=\"Cumulative Defective Number\")\n",
    "    ax1.grid(True)\n",
    "\n",
    "    ax2 = ax1.twinx()\n",
    "    ax2.plot(x, y2, ls=\"-\", c=color_2, drawstyle=\"steps-post\", lw=0.5, label=\"SA_Lot\")\n",
    "    ax2.yaxis.label.set_color(\"b\")\n",
    "\n",
    "    #ラベルとハンドラ\n",
    "    handler1, label1 = ax1.get_legend_handles_labels()\n",
    "    handler2, label2 = ax2.get_legend_handles_labels()\n",
    "\n",
    "    # 凡例をまとめて出力する\n",
    "    ax1.legend(handler1 + handler2, label1 + label2, loc=2, borderaxespad=0.5)\n",
    " \n",
    "    #軸の縦線の色を変更．図を重ねているのでax2のみいじる\n",
    "    ax2.spines[\"left\"].set_color(color_1)\n",
    "    ax2.spines[\"right\"].set_color(color_2)\n",
    " \n",
    "    #軸の縦線の色を変更している\n",
    "    ax1.tick_params(axis=\"y\", colors=color_1)\n",
    "    ax2.tick_params(axis=\"y\", colors=color_2)\n",
    "\n",
    "    #fig保存\n",
    "    SaveFig(fig_id)\n",
    "\n",
    "    #軸の目盛りの単位を変更する\n",
    "    #ax1.yaxis.set_major_formatter(ticker.FormatStrFormatter(\"%d個\"))\n",
    "    #ax2.yaxis.set_major_formatter(ticker.FormatStrFormatter(\"%d\"))"
   ]
  },
  {
   "cell_type": "code",
   "execution_count": 5,
   "metadata": {},
   "outputs": [],
   "source": [
    "def CreateBaseData(csv_file):\n",
    "    \n",
    "    #取得列名の定義\n",
    "    col_process = { \"sa_lot\": \"sa_lot\",\n",
    "                    \"out_put_time_\" + str(PROCESS_NO): \"out_put_time_\" + str(PROCESS_NO),\n",
    "                    \"不良カテゴリ_\" + str(PROCESS_NO): \"DR_Cat_\" + str(PROCESS_NO),\n",
    "                    \"Ok情報1(設備)_\" + str(PROCESS_NO): \"OK1_\" + str(PROCESS_NO),\n",
    "                    \"Ok情報2(設備)_\" + str(PROCESS_NO): \"OK2_\" + str(PROCESS_NO),\n",
    "                    \"Ok情報3(設備)_\" + str(PROCESS_NO): \"OK3_\" + str(PROCESS_NO),\n",
    "                    \"工程完了情報1(設備)_\" + str(PROCESS_NO): \"Proc1_\" + str(PROCESS_NO),\n",
    "                    \"工程完了情報2(設備)_\" + str(PROCESS_NO): \"Proc2_\" + str(PROCESS_NO),\n",
    "                    \"工程完了情報3(設備)_\" + str(PROCESS_NO): \"Proc3_\" + str(PROCESS_NO),\n",
    "                    \"キャリアID1(製品種別/ライン)_\" + str(PROCESS_NO): \"CarrID_Line_\" + str(PROCESS_NO),\n",
    "                    \"キャリアID2(工程)_\" + str(PROCESS_NO): \"CarrID_Proc_\" + str(PROCESS_NO),\n",
    "                    \"キャリアID3(シリアルNo1)_\" + str(PROCESS_NO): \"CarrID_Ser1_\" + str(PROCESS_NO),\n",
    "                    \"キャリアID4(シリアルNo2)_\" + str(PROCESS_NO): \"CarrID_Ser2_\" + str(PROCESS_NO)}\n",
    "    \n",
    "    #指定工程Noのデータ読み込み\n",
    "    with codecs.open(os.path.join(R_DATA_PATH, csv_file), \"r\", \"Shift-JIS\", \"ignore\") as f:\n",
    "        df = pd.read_table(f, delimiter=\",\", low_memory=False, usecols=col_process.keys())\n",
    "\n",
    "    #列名をリネーム\n",
    "    df_process = df.rename(columns=col_process)\n",
    "    \n",
    "    #日付：オブジェクト　→　datetimeへ変換\n",
    "    df_process[\"out_put_time_\" + str(PROCESS_NO)] = pd.to_datetime(df_process[\"out_put_time_\" + str(PROCESS_NO)])\n",
    "    \n",
    "    #先にドロップすると，色んな行のNAにヒットしてデータがほぼなくなるので注意\n",
    "    df_process = df_process.dropna()\n",
    "    \n",
    "    return df_process"
   ]
  },
  {
   "cell_type": "code",
   "execution_count": 6,
   "metadata": {},
   "outputs": [],
   "source": [
    "def PlotWeeklyData(df_process):\n",
    "   \n",
    "    df_defcate = (df_process[\"DR_Cat_\" + str(PROCESS_NO)]==31)\n",
    "    \n",
    "   #プロット\n",
    "    x  = df_process[\"out_put_time_\" + str(PROCESS_NO)]\n",
    "    y1 = df_defcate.cumsum()\n",
    "    y2 = df_process[\"sa_lot\"]\n",
    "    fig_id = csv_file[:-4]\n",
    "\n",
    "    PlotDefectivesWithLot(x, y1, y2, fig_id)"
   ]
  },
  {
   "cell_type": "code",
   "execution_count": 23,
   "metadata": {},
   "outputs": [],
   "source": [
    "def PlotLotData(df_process):\n",
    "    \n",
    "    #1画像データ辺りのロットプロット数\n",
    "    plt_row = 5\n",
    "    \n",
    "    #SAロット毎に分割\n",
    "    lots = df_process[\"sa_lot\"].unique()\n",
    "    lots = np.sort(lots)\n",
    "    \n",
    "    #イテレータ設定\n",
    "    i_plt_row = 0\n",
    "    i_fig_num = 0\n",
    "    \n",
    "    #ロット毎にプロット\n",
    "    for lot in lots:\n",
    "        i_plt_row += 1\n",
    "        \n",
    "        if i_plt_row == 1:\n",
    "            fig = plt.figure(figsize=(8, 6))\n",
    "        \n",
    "        #時系列が戻ったりするので昇順にソート\n",
    "        df_process_lot = df_process[df_process[\"sa_lot\"]==lot]\n",
    "        df_process_lot = df_process_lot.sort_values(\"out_put_time_\" + str(PROCESS_NO))\n",
    "        df_defcate_lot = (df_process_lot[\"DR_Cat_\" + str(PROCESS_NO)]==31)\n",
    "        \n",
    "        #プロットデータ\n",
    "        x = df_process_lot[\"out_put_time_\" + str(PROCESS_NO)]\n",
    "        y = df_defcate_lot.cumsum()\n",
    "        \n",
    "        #グラフ全体設定\n",
    "        ax = fig.add_subplot(plt_row, 1, i_plt_row)        \n",
    "        ax.plot(x, y, ls=\"-\", lw=0.5, color=\"gray\", marker=\"o\", ms=1.5, mec=\"black\", mfc=\"gray\", mew=0.5, label=\"Cumulative Defective Number\")\n",
    "#        ax.legend(loc=2, borderaxespad=0.5)\n",
    "        ax.set_title(lot, fontsize=10)\n",
    "        ax.tick_params(labelsize=7)\n",
    "\n",
    "        #X軸：時系列設定\n",
    "        xfmt = mdates.DateFormatter(\"%m/%d_%H:%M\")\n",
    "#        xloc = mdates.HourLocator(byhour=[0,1])\n",
    "        xloc = mdates.AutoDateLocator()\n",
    "        ax.xaxis.set_major_locator(xloc)\n",
    "        ax.xaxis.set_major_formatter(xfmt)\n",
    "        \n",
    "        #Y軸：不良数設定\n",
    "        ax.set_ylim(0, max([20, df_defcate_lot.sum()]))\n",
    "        ax.yaxis.set_major_locator(ticker.MaxNLocator(integer=True))\n",
    "        ax.yaxis.set_major_locator(ticker.MultipleLocator(5))\n",
    "        \n",
    "        ax.grid(True)\n",
    "  \n",
    "        if i_plt_row == plt_row:\n",
    "            i_plt_row = 0\n",
    "            i_fig_num += 1\n",
    "            plt.tight_layout()\n",
    "            SaveFig(str(i_fig_num))\n",
    "            plt.close()"
   ]
  },
  {
   "cell_type": "markdown",
   "metadata": {},
   "source": [
    "■■■■■　MainProgram　■■■■■"
   ]
  },
  {
   "cell_type": "code",
   "execution_count": 24,
   "metadata": {},
   "outputs": [],
   "source": [
    "#定義\n",
    "R_DATA_PATH = os.path.join(\"..\", \"AssemblyData\". \"Original\") #csvデータの保管場所\n",
    "PROCESS_NO = 16 #工程番号"
   ]
  },
  {
   "cell_type": "code",
   "execution_count": 25,
   "metadata": {},
   "outputs": [],
   "source": [
    "#データファイル取得\n",
    "csv_files = GetCSVFiles()"
   ]
  },
  {
   "cell_type": "code",
   "execution_count": 26,
   "metadata": {},
   "outputs": [
    {
     "data": {
      "image/png": "[encoded data removed]",
      "text/plain": [
       "<matplotlib.figure.Figure at 0x17b018f0>"
      ]
     },
     "metadata": {},
     "output_type": "display_data"
    }
   ],
   "source": [
    "#メインプログラム　グローバル変数だから，これじゃなくてもアクセスできるけど\n",
    "for csv_file in csv_files:\n",
    "    df = CreateBaseData(csv_file)\n",
    "    PlotLotData(df)"
   ]
  },
  {
   "cell_type": "markdown",
   "metadata": {},
   "source": [
    "■■■■■　確認　■■■■■"
   ]
  },
  {
   "cell_type": "code",
   "execution_count": null,
   "metadata": {},
   "outputs": [],
   "source": []
  },
  {
   "cell_type": "markdown",
   "metadata": {},
   "source": [
    "■■■■■　失敗作　■■■■■"
   ]
  },
  {
   "cell_type": "code",
   "execution_count": null,
   "metadata": {},
   "outputs": [],
   "source": []
  }
 ],
 "metadata": {
  "kernelspec": {
   "display_name": "Python 3",
   "language": "python",
   "name": "python3"
  },
  "language_info": {
   "codemirror_mode": {
    "name": "ipython",
    "version": 3
   },
   "file_extension": ".py",
   "mimetype": "text/x-python",
   "name": "python",
   "nbconvert_exporter": "python",
   "pygments_lexer": "ipython3",
   "version": "3.6.5"
  }
 },
 "nbformat": 4,
 "nbformat_minor": 2
}
