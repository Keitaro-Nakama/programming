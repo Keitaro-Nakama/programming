{
 "cells": [
  {
   "cell_type": "code",
   "execution_count": 21,
   "metadata": {},
   "outputs": [],
   "source": [
    "import os\n",
    "import numpy as np\n",
    "import pandas as pd\n",
    "import codecs\n",
    "\n",
    "import matplotlib.pyplot as plt\n",
    "import matplotlib.dates as mdates\n",
    "import matplotlib.ticker as ticker\n",
    "from datetime import datetime"
   ]
  },
  {
   "cell_type": "markdown",
   "metadata": {},
   "source": [
    "■■■■■　関数　■■■■■"
   ]
  },
  {
   "cell_type": "code",
   "execution_count": 3,
   "metadata": {},
   "outputs": [],
   "source": [
    "def SaveFig(fig_id, tight_layout=True, fig_extension=\"png\", resolution=600):\n",
    "   \n",
    "    images_path = os.path.join(\"..\", \"Images\", csv_file[:-4])\n",
    "    os.makedirs(images_path, exist_ok=True)\n",
    "    file_name = os.path.join(images_path, fig_id + \".\" + fig_extension)\n",
    "    \n",
    "    #print(\"Saving figure\", fig_id)\n",
    "    if tight_layout:\n",
    "        plt.tight_layout()\n",
    "    plt.savefig(file_name, format=fig_extension, dpi=resolution)\n",
    "    plt.close()"
   ]
  },
  {
   "cell_type": "code",
   "execution_count": 4,
   "metadata": {},
   "outputs": [],
   "source": [
    "def GetCSVFiles(path):\n",
    "    files = os.listdir(path)\n",
    "    csv_files = []\n",
    "    \n",
    "    for file in files:\n",
    "        if(file.find(\".csv\") != -1 and file[:2].upper() == \"NG\"):\n",
    "             csv_files.append(file)\n",
    "    \n",
    "    return csv_files"
   ]
  },
  {
   "cell_type": "code",
   "execution_count": 5,
   "metadata": {},
   "outputs": [],
   "source": [
    "def GetExtractCSVFiles(path):\n",
    "    files = os.listdir(path)\n",
    "    csv_files = []\n",
    "    \n",
    "    for file in files:\n",
    "        if(file.find(\".csv\") != -1 and file.upper().find(\"EXTRACT\") != -1):\n",
    "             csv_files.append(file)\n",
    "    \n",
    "    return csv_files"
   ]
  },
  {
   "cell_type": "code",
   "execution_count": 6,
   "metadata": {},
   "outputs": [],
   "source": [
    "def CreateBaseData(csv_file):\n",
    "    \n",
    "    #工程番号定義\n",
    "    process_no = [11, 12, 13, 14, 15, 16]\n",
    "    \n",
    "    #取得列名の定義\n",
    "    col_output  = [\"out_put_time_%s\"%i for i in process_no]\n",
    "    col_others  = [\"sa_lot\", \"sa_seri\", \"ピックアップ位置XY_11\", \"格納位置_14\", \"格納時間_14\", \"排出時間_14\", \"不良カテゴリ_16\"]\n",
    "    col_rename  = {\"ピックアップ位置XY_11\": \"pickup_loc_XY_11\",\n",
    "                   \"格納位置_14\": \"storage_loc_14\",\n",
    "                   \"格納時間_14\": \"storage_start_14\",\n",
    "                   \"排出時間_14\": \"storage_end_14\",\n",
    "                   \"不良カテゴリ_16\": \"defective_cat_16\"}\n",
    "    col_process = col_others + col_output\n",
    "    \n",
    "    #指定工程Noのデータ読み込み\n",
    "    with codecs.open(os.path.join(path, csv_file), \"r\", \"Shift-JIS\", \"ignore\") as f:\n",
    "        df = pd.read_table(f, delimiter=\",\", low_memory=False, usecols=col_process)\n",
    "\n",
    "    #列名をリネーム\n",
    "    df = df.rename(columns=col_rename)\n",
    "    \n",
    "    #日付：オブジェクト　→　datetimeへ変換\n",
    "    for i in process_no:\n",
    "        df[\"out_put_time_%s\"%i] = pd.to_datetime(df[\"out_put_time_%s\"%i])\n",
    "    \n",
    "    df.to_csv(os.path.join(path, \"Extract_\" + csv_file), index=False, encoding=\"utf-8\")"
   ]
  },
  {
   "cell_type": "code",
   "execution_count": 24,
   "metadata": {},
   "outputs": [],
   "source": [
    "def PlotMatrixData(csv_file):\n",
    "    \n",
    "    #ExtractCSV読み込み\n",
    "    df = pd.read_csv(os.path.join(path, csv_file))\n",
    "    lots = df[\"sa_lot\"].unique()\n",
    "    lots = np.sort(lots)\n",
    "    \n",
    "    #1画像辺りのサブプロット数\n",
    "    plt_row = 3\n",
    "    plt_col = 6\n",
    "    \n",
    "    #figNo設定\n",
    "    i_mat = 0\n",
    "    i_fig = 0\n",
    "        \n",
    "    #部屋番号作成\n",
    "    room_row = np.arange(100, 1600, 100)\n",
    "    room_col = np.r_[np.arange(1,5), np.arange(6,10)]\n",
    "    \n",
    "    #plt.figure(figsize = (10, 8))\n",
    "    \n",
    "    for lot in lots:\n",
    "        \n",
    "        i_mat += 1\n",
    "        \n",
    "        if i_mat == 1:\n",
    "            plt.figure(figsize=(10, 8))\n",
    "        \n",
    "        #カウントアップ変数\n",
    "        defect_num = np.zeros([len(room_row), len(room_col)], dtype = int)\n",
    "    \n",
    "        #31番の不良選定\n",
    "        df_defect = df[df[\"defective_cat_16\"]==31]\n",
    "        df_lot    = df_defect[df_defect[\"sa_lot\"]==lot]\n",
    "    \n",
    "        #部屋毎の不良数カウント\n",
    "        for row in room_row:\n",
    "            for col in room_col:\n",
    "                room_no = row + col\n",
    "            \n",
    "                df_room = df_lot[\"storage_loc_14\"] == room_no\n",
    "                cnt = df_room.sum()\n",
    "            \n",
    "                if cnt != 0:\n",
    "                    r = room_no // 100 - 1\n",
    "                    c = room_no % 100 - np.where((room_no % 100) < 5, 1, 2)\n",
    "                \n",
    "                    defect_num[r][c] = cnt\n",
    "    \n",
    "        #プロット\n",
    "        plt.subplot(plt_row, plt_col, i_mat)\n",
    "       # PlotBarRoomDefectives(room_row, room_col, defect_num, lot)\n",
    "        PlotMatrixRoomDefectives(room_row, room_col, defect_num, lot)\n",
    "               \n",
    "        if (i_mat == plt_row * plt_col) or (lot == lots[-1]):\n",
    "            i_mat = 0\n",
    "            i_fig += 1\n",
    "            plt.tight_layout()\n",
    "            SaveFig(str(i_fig))\n",
    "            plt.close()"
   ]
  },
  {
   "cell_type": "code",
   "execution_count": 8,
   "metadata": {},
   "outputs": [],
   "source": [
    "def PlotBarRoomDefectives(room_row, room_col, defect_num, lot):\n",
    "    \n",
    "    room_no = (room_row.reshape(-1,1) + room_col).flatten()\n",
    "    \n",
    "    df_count = pd.DataFrame({\"storage_no\" : room_no, \"count\":defect_num.flatten()}, columns=[\"storage_no\", \"count\"])\n",
    "    df_count.plot(x=\"storage_no\", y=\"count\", kind=\"bar\", color=\"gray\", figsize=(16,6))"
   ]
  },
  {
   "cell_type": "code",
   "execution_count": 18,
   "metadata": {},
   "outputs": [],
   "source": [
    "def PlotMatrixRoomDefectives(room_row, room_col, defect_num, lot):\n",
    "    \n",
    "    #メッシュでプロットこんな感じ\n",
    "    X, Y = np.meshgrid(room_row, room_col)\n",
    "    Z = defect_num\n",
    "    \n",
    "    #plt.figure()\n",
    "    plt.imshow(Z,interpolation=\"None\", cmap=\"Reds\")\n",
    "    \n",
    "    xtick = room_col\n",
    "    ytick = room_row\n",
    "    \n",
    "    locx = np.arange(len(room_col))\n",
    "    locy = np.arange(len(room_row))\n",
    "    \n",
    "    plt.xticks(locx, xtick)\n",
    "    plt.yticks(locy, ytick)\n",
    "    \n",
    "    plt.tick_params(labelsize=8)\n",
    "    \n",
    "    plt.title(lot)"
   ]
  },
  {
   "cell_type": "markdown",
   "metadata": {},
   "source": [
    "■■■■■　MainProgram　■■■■■"
   ]
  },
  {
   "cell_type": "code",
   "execution_count": 10,
   "metadata": {},
   "outputs": [],
   "source": [
    "#定義\n",
    "path = os.path.join(\"..\", \"AssemblyData\")"
   ]
  },
  {
   "cell_type": "code",
   "execution_count": 12,
   "metadata": {},
   "outputs": [],
   "source": [
    "#データファイル取得\n",
    "csv_files = GetExtractCSVFiles(path)"
   ]
  },
  {
   "cell_type": "code",
   "execution_count": 23,
   "metadata": {},
   "outputs": [],
   "source": [
    "#メイン\n",
    "for csv_file in csv_files:\n",
    "    PlotMatrixData(csv_file)"
   ]
  },
  {
   "cell_type": "markdown",
   "metadata": {},
   "source": [
    "■■■■■　確認　■■■■■"
   ]
  },
  {
   "cell_type": "code",
   "execution_count": 15,
   "metadata": {},
   "outputs": [],
   "source": [
    "csv_file = csv_files[0]"
   ]
  },
  {
   "cell_type": "code",
   "execution_count": 29,
   "metadata": {},
   "outputs": [],
   "source": [
    "CreateBaseData(csv_file)"
   ]
  },
  {
   "cell_type": "markdown",
   "metadata": {},
   "source": [
    "■■■■■　失敗作　■■■■■"
   ]
  },
  {
   "cell_type": "code",
   "execution_count": null,
   "metadata": {},
   "outputs": [],
   "source": []
  }
 ],
 "metadata": {
  "kernelspec": {
   "display_name": "Python 3",
   "language": "python",
   "name": "python3"
  },
  "language_info": {
   "codemirror_mode": {
    "name": "ipython",
    "version": 3
   },
   "file_extension": ".py",
   "mimetype": "text/x-python",
   "name": "python",
   "nbconvert_exporter": "python",
   "pygments_lexer": "ipython3",
   "version": "3.6.4"
  }
 },
 "nbformat": 4,
 "nbformat_minor": 2
}
